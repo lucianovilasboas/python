{
 "cells": [
  {
   "cell_type": "markdown",
   "metadata": {},
   "source": [
    "## O problema de Monty Hall \n",
    "\n",
    "<p>O presente código, neste <i>Notebook</i>, simula através de uma demonstração empírica o problema e avalia as probabilidades associadas à cada situação apresentada ao jogador. Sejam elas:\n",
    "<p>1. Quais as chances, em termos de probabilidade, do jogador encontrar um carro se ele <b>sempre trocar de porta</b>?\n",
    "<p>2. E se o jogador permaner sempre com a primeira escolha, ou seja, <b>nunca trocar de porta</b>? \n",
    "<p>3. Avaliou-se também a probabilidade associada se o jogador, aleatoriamente, <b>manter a porta escolhida ou trocar</b>.\n",
    "\n",
    "<p>Mais sobre o problema em: https://pt.wikipedia.org/wiki/Problema_de_Monty_Hall\n",
    "\n",
    "<img src=\"Monty_hall_problem.jpg\"/>"
   ]
  },
  {
   "cell_type": "code",
   "execution_count": 2,
   "metadata": {
    "collapsed": true
   },
   "outputs": [],
   "source": [
    "# import das bibliotcas necessárias\n",
    "import pandas as pd\n",
    "import numpy as np"
   ]
  },
  {
   "cell_type": "code",
   "execution_count": 10,
   "metadata": {},
   "outputs": [
    {
     "data": {
      "text/plain": [
       "array([0, 1, 0])"
      ]
     },
     "execution_count": 10,
     "metadata": {},
     "output_type": "execute_result"
    }
   ],
   "source": [
    "# Configurando a situação inicial para apresentação do problema ao jogador\n",
    "doors = np.array([0, 0, 0]) # Cria uma lista inicial\n",
    "doors[np.random.choice([0,1,2])] = 1 # escolhe aleatoriamente uma posição e atualiza para o valor 1 \n",
    "                                     # (colocando o carro atrás de uma das portas)\n",
    "doors"
   ]
  },
  {
   "cell_type": "code",
   "execution_count": 11,
   "metadata": {},
   "outputs": [
    {
     "data": {
      "text/plain": [
       "(1,)"
      ]
     },
     "execution_count": 11,
     "metadata": {},
     "output_type": "execute_result"
    }
   ],
   "source": [
    "# Primeira escolha -> o jogador escolha a porta\n",
    "#i_choice_1 = np.random.randint(3, size=1)[0]\n",
    "i_choice_1 = np.random.choice([0,1,2])\n",
    "i_choice_1 , #doors[i_choice_1]"
   ]
  },
  {
   "cell_type": "code",
   "execution_count": 12,
   "metadata": {},
   "outputs": [
    {
     "data": {
      "text/plain": [
       "[0, 2]"
      ]
     },
     "execution_count": 12,
     "metadata": {},
     "output_type": "execute_result"
    }
   ],
   "source": [
    "# O apresentador abre uma porta (não escolhida pelo jogador) contendo um bode                               # essa parte serve para \n",
    "i_choice_x = [x for x in [0,1,2] if not x==i_choice_1 and not doors[x]==1]#[ np.random.randint(2, size=1)[0] ]\n",
    "i_choice_x"
   ]
  },
  {
   "cell_type": "code",
   "execution_count": 30,
   "metadata": {},
   "outputs": [
    {
     "data": {
      "text/plain": [
       "False"
      ]
     },
     "execution_count": 30,
     "metadata": {},
     "output_type": "execute_result"
    }
   ],
   "source": [
    "# Segunda escolha -> jogador. O apresentador pergunta ao jogador se ele escolhe outra porta ou mantém a porta ecolhida\n",
    "# se for igual a True ele manteve a porta escolhida, caso contrário ele trocou de porta\n",
    "i_other_door = i_other_door = [x for x in [0,1,2] if x!=i_choice_1 and x!=i_choice_x[0]]\n",
    "\n",
    "i_choice_2 = np.random.choice([i_choice_1,i_other_door[0]])\n",
    "\n",
    "(i_choice_2 == i_choice_1)"
   ]
  },
  {
   "cell_type": "code",
   "execution_count": 36,
   "metadata": {},
   "outputs": [
    {
     "data": {
      "text/plain": [
       "False"
      ]
     },
     "execution_count": 36,
     "metadata": {},
     "output_type": "execute_result"
    }
   ],
   "source": [
    "# O Jogador, então, abre a porta escolhida.\n",
    "# Se for igual a 1 (True) ele ganhou o carro, caso contrário ele ganhou um bode.\n",
    "doors[i_choice_2] == 1 "
   ]
  },
  {
   "cell_type": "code",
   "execution_count": 37,
   "metadata": {
    "collapsed": true
   },
   "outputs": [],
   "source": [
    "# essa função simula uma roda de escolhas para o problema \n",
    "def monty_hall_problem(change_door=0):\n",
    "    \"\"\"\n",
    "    change_door == 0 => troca de porta sempre\n",
    "    change_door == 1 => nunca troca de porta\n",
    "    change_door == other value => escolhe aleatoriamente entre a porta autal e a outra porta\n",
    "    \"\"\"\n",
    "    doors_index = [0,1,2]\n",
    "    \n",
    "    # Configura a situação inicial\n",
    "    doors = np.array([0, 0, 0]) # Cria uma lista inicial com valores zero (bodes)\n",
    "    doors[np.random.choice(doors_index)] = 1 # escolhe aleatoriamente uma porta e atualiza para o valor 1 (carro)\n",
    "\n",
    "    # Primeira escolha -> jogador escolhe aleatoriamente uma porta\n",
    "    door_1 = np.random.choice(doors_index)\n",
    "    \n",
    "    # Apresentador abre uma porta (dentre as duas opçoões disponíveis) contendo um 0 (bode)\n",
    "    door_x = np.random.choice([x for x in doors_index if x!=door_1 and doors[x]!=1]) # pega o elemento na posição 0 ou 1. \n",
    "    \n",
    "    # Esse passo serve para identificar a outra porta disponível ao jogador excluída a que ele já escolheu\n",
    "    other_door = [x for x in doors_index if x!=door_1 and x!=door_x][0]\n",
    "    \n",
    "    # Segunda escolha -> jogador. Ou ele muda de porta ou mantém a porta atual escolhida\n",
    "    if change_door == 0: # sempre troca de porta\n",
    "        door_2 = other_door\n",
    "    elif change_door == 1: # nunca troca de porta\n",
    "        door_2 = door_1\n",
    "    else: # troca ou não, de porta\n",
    "        door_2 = np.random.choice([door_1, other_door])\n",
    "        \n",
    "    # Abre a porta escolhida \n",
    "    return doors[door_2]"
   ]
  },
  {
   "cell_type": "code",
   "execution_count": 47,
   "metadata": {},
   "outputs": [
    {
     "name": "stdout",
     "output_type": "stream",
     "text": [
      "Vc ganhou um bode ;(\n",
      "Vc ganhou um carro :)\n",
      "Vc ganhou um carro :)\n",
      "Vc ganhou um bode ;(\n",
      "Vc ganhou um bode ;(\n",
      "Vc ganhou um bode ;(\n",
      "Vc ganhou um carro :)\n",
      "Vc ganhou um bode ;(\n",
      "Vc ganhou um carro :)\n",
      "Vc ganhou um carro :)\n"
     ]
    }
   ],
   "source": [
    "# Alguns testes \n",
    "for _ in range(10):\n",
    "    print(\"Vc ganhou um carro :)\" if monty_hall_problem(1) == 1 else \"Vc ganhou um bode ;(\")"
   ]
  },
  {
   "cell_type": "code",
   "execution_count": 48,
   "metadata": {
    "collapsed": true
   },
   "outputs": [],
   "source": [
    "n_runs = 100000"
   ]
  },
  {
   "cell_type": "code",
   "execution_count": 49,
   "metadata": {},
   "outputs": [
    {
     "name": "stdout",
     "output_type": "stream",
     "text": [
      "Chances de ganhar se sempre trocar de porta:  67%\n",
      " Chances de ganhar se nunca trocar de porta:  33%\n",
      " Chances de ganhar se trocar ou não de porta:  50%\n",
      "Wall time: 9.15 s\n"
     ]
    }
   ],
   "source": [
    "%%time \n",
    "\n",
    "r1 = sum([monty_hall_problem(0) for _ in range(n_runs) ])/n_runs # sempre troca de porta\n",
    "r2 = sum([monty_hall_problem(1) for _ in range(n_runs) ])/n_runs # nunca troca de porta\n",
    "r3 = sum([monty_hall_problem(2) for _ in range(n_runs) ])/n_runs # troca ou não de porta\n",
    "\n",
    "print( \"Chances de ganhar se sempre trocar de porta: {0:3.0f}%\\n \\\n",
    "Chances de ganhar se nunca trocar de porta: {1:3.0f}%\\n \\\n",
    "Chances de ganhar se trocar ou não de porta: {2:3.0f}%\".format(r1*100, r2*100, r3*100) )"
   ]
  },
  {
   "cell_type": "code",
   "execution_count": 1,
   "metadata": {
    "collapsed": true
   },
   "outputs": [],
   "source": [
    "# Alguns calculos auxiliares"
   ]
  },
  {
   "cell_type": "code",
   "execution_count": 56,
   "metadata": {},
   "outputs": [
    {
     "data": {
      "text/plain": [
       "[array([1]),\n",
       " array([2]),\n",
       " array([2]),\n",
       " array([2]),\n",
       " array([1]),\n",
       " array([3]),\n",
       " array([1]),\n",
       " array([1]),\n",
       " array([2]),\n",
       " array([1])]"
      ]
     },
     "execution_count": 56,
     "metadata": {},
     "output_type": "execute_result"
    }
   ],
   "source": [
    "# escolha aleatório com probabilidades associadas -> tipo uma roleta viciada\n",
    "[np.random.choice([1, 2, 3],p=[.4,.5,.1],size=1,replace=False) for _ in range(10)]"
   ]
  },
  {
   "cell_type": "code",
   "execution_count": 1558,
   "metadata": {},
   "outputs": [
    {
     "name": "stdout",
     "output_type": "stream",
     "text": [
      "20\n"
     ]
    }
   ],
   "source": [
    "i=0\n",
    "while not np.random.choice(31,1) == [np.random.choice(range(31))]: i += 1\n",
    "print(i)"
   ]
  },
  {
   "cell_type": "code",
   "execution_count": 1577,
   "metadata": {},
   "outputs": [
    {
     "data": {
      "text/plain": [
       "61.6"
      ]
     },
     "execution_count": 1577,
     "metadata": {},
     "output_type": "execute_result"
    }
   ],
   "source": [
    "n_run=1000\n",
    "np.sum([np.random.choice([0,1],p=[.39,.61]) for _ in range(n_run)])/n_run * 100"
   ]
  }
 ],
 "metadata": {
  "kernelspec": {
   "display_name": "Python 3",
   "language": "python",
   "name": "python3"
  },
  "language_info": {
   "codemirror_mode": {
    "name": "ipython",
    "version": 3
   },
   "file_extension": ".py",
   "mimetype": "text/x-python",
   "name": "python",
   "nbconvert_exporter": "python",
   "pygments_lexer": "ipython3",
   "version": "3.6.6"
  }
 },
 "nbformat": 4,
 "nbformat_minor": 2
}
